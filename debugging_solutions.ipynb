{
 "cells": [
  {
   "cell_type": "code",
   "execution_count": 2,
   "metadata": {
    "nbgrader": {
     "grade": false,
     "grade_id": "16dd0e54-1177-41f7-a262-2b4c8bf37c63",
     "locked": false,
     "points": 1,
     "schema_version": 3,
     "solution": false,
     "task": false
    }
   },
   "outputs": [
    {
     "name": "stdout",
     "output_type": "stream",
     "text": [
      "Collecting torch\n",
      "  Obtaining dependency information for torch from https://files.pythonhosted.org/packages/58/b8/51b956c2da9729390a3080397cd2f31171394543af7746681466e372f69a/torch-2.2.0-cp311-cp311-win_amd64.whl.metadata\n",
      "  Downloading torch-2.2.0-cp311-cp311-win_amd64.whl.metadata (26 kB)\n",
      "Requirement already satisfied: filelock in c:\\users\\netuser\\anaconda3\\lib\\site-packages (from torch) (3.9.0)\n",
      "Collecting typing-extensions>=4.8.0 (from torch)\n",
      "  Obtaining dependency information for typing-extensions>=4.8.0 from https://files.pythonhosted.org/packages/b7/f4/6a90020cd2d93349b442bfcb657d0dc91eee65491600b2cb1d388bc98e6b/typing_extensions-4.9.0-py3-none-any.whl.metadata\n",
      "  Downloading typing_extensions-4.9.0-py3-none-any.whl.metadata (3.0 kB)\n",
      "Requirement already satisfied: sympy in c:\\users\\netuser\\anaconda3\\lib\\site-packages (from torch) (1.11.1)\n",
      "Requirement already satisfied: networkx in c:\\users\\netuser\\anaconda3\\lib\\site-packages (from torch) (3.1)\n",
      "Requirement already satisfied: jinja2 in c:\\users\\netuser\\anaconda3\\lib\\site-packages (from torch) (3.1.2)\n",
      "Requirement already satisfied: fsspec in c:\\users\\netuser\\anaconda3\\lib\\site-packages (from torch) (2023.4.0)\n",
      "Requirement already satisfied: MarkupSafe>=2.0 in c:\\users\\netuser\\anaconda3\\lib\\site-packages (from jinja2->torch) (2.1.1)\n",
      "Requirement already satisfied: mpmath>=0.19 in c:\\users\\netuser\\anaconda3\\lib\\site-packages (from sympy->torch) (1.3.0)\n",
      "Downloading torch-2.2.0-cp311-cp311-win_amd64.whl (198.6 MB)\n",
      "   ---------------------------------------- 0.0/198.6 MB ? eta -:--:--\n",
      "   ---------------------------------------- 0.0/198.6 MB 1.3 MB/s eta 0:02:36\n",
      "   ---------------------------------------- 0.1/198.6 MB 1.4 MB/s eta 0:02:18\n",
      "   ---------------------------------------- 0.3/198.6 MB 2.2 MB/s eta 0:01:30\n",
      "   ---------------------------------------- 0.5/198.6 MB 3.0 MB/s eta 0:01:07\n",
      "   ---------------------------------------- 0.7/198.6 MB 3.4 MB/s eta 0:00:59\n",
      "   ---------------------------------------- 1.4/198.6 MB 5.4 MB/s eta 0:00:37\n",
      "    --------------------------------------- 2.5/198.6 MB 8.0 MB/s eta 0:00:25\n",
      "    --------------------------------------- 4.1/198.6 MB 11.3 MB/s eta 0:00:18\n",
      "   - -------------------------------------- 6.3/198.6 MB 16.1 MB/s eta 0:00:12\n",
      "   - -------------------------------------- 7.1/198.6 MB 15.7 MB/s eta 0:00:13\n",
      "   - -------------------------------------- 9.7/198.6 MB 19.4 MB/s eta 0:00:10\n",
      "   -- ------------------------------------- 12.9/198.6 MB 43.7 MB/s eta 0:00:05\n",
      "   -- ------------------------------------- 13.6/198.6 MB 40.9 MB/s eta 0:00:05\n",
      "   --- ------------------------------------ 15.5/198.6 MB 38.5 MB/s eta 0:00:05\n",
      "   --- ------------------------------------ 17.8/198.6 MB 43.5 MB/s eta 0:00:05\n",
      "   --- ------------------------------------ 19.0/198.6 MB 43.7 MB/s eta 0:00:05\n",
      "   --- ------------------------------------ 19.0/198.6 MB 43.7 MB/s eta 0:00:05\n",
      "   --- ------------------------------------ 19.0/198.6 MB 43.7 MB/s eta 0:00:05\n",
      "   --- ------------------------------------ 19.1/198.6 MB 25.2 MB/s eta 0:00:08\n",
      "   ---- ----------------------------------- 24.8/198.6 MB 34.4 MB/s eta 0:00:06\n",
      "   ----- ---------------------------------- 28.6/198.6 MB 38.5 MB/s eta 0:00:05\n",
      "   ------ --------------------------------- 29.9/198.6 MB 81.8 MB/s eta 0:00:03\n",
      "   ------ --------------------------------- 30.9/198.6 MB 59.5 MB/s eta 0:00:03\n",
      "   ------ --------------------------------- 33.0/198.6 MB 50.4 MB/s eta 0:00:04\n",
      "   ------ --------------------------------- 34.5/198.6 MB 43.5 MB/s eta 0:00:04\n",
      "   ------- -------------------------------- 35.5/198.6 MB 36.4 MB/s eta 0:00:05\n",
      "   ------- -------------------------------- 37.0/198.6 MB 32.8 MB/s eta 0:00:05\n",
      "   ------- -------------------------------- 38.8/198.6 MB 31.2 MB/s eta 0:00:06\n",
      "   -------- ------------------------------- 40.6/198.6 MB 34.4 MB/s eta 0:00:05\n",
      "   -------- ------------------------------- 41.4/198.6 MB 32.7 MB/s eta 0:00:05\n",
      "   -------- ------------------------------- 43.0/198.6 MB 31.2 MB/s eta 0:00:05\n",
      "   --------- ------------------------------ 44.9/198.6 MB 32.7 MB/s eta 0:00:05\n",
      "   --------- ------------------------------ 46.4/198.6 MB 34.4 MB/s eta 0:00:05\n",
      "   --------- ------------------------------ 47.5/198.6 MB 32.8 MB/s eta 0:00:05\n",
      "   --------- ------------------------------ 48.2/198.6 MB 31.2 MB/s eta 0:00:05\n",
      "   --------- ------------------------------ 48.2/198.6 MB 31.2 MB/s eta 0:00:05\n",
      "   --------- ------------------------------ 48.2/198.6 MB 31.2 MB/s eta 0:00:05\n",
      "   --------- ------------------------------ 48.2/198.6 MB 31.2 MB/s eta 0:00:05\n",
      "   --------- ------------------------------ 48.2/198.6 MB 31.2 MB/s eta 0:00:05\n",
      "   --------- ------------------------------ 49.5/198.6 MB 18.2 MB/s eta 0:00:09\n",
      "   ---------- ----------------------------- 51.4/198.6 MB 19.8 MB/s eta 0:00:08\n",
      "   ---------- ----------------------------- 51.8/198.6 MB 18.7 MB/s eta 0:00:08\n",
      "   ---------- ----------------------------- 53.6/198.6 MB 18.2 MB/s eta 0:00:08\n",
      "   ---------- ----------------------------- 54.2/198.6 MB 17.2 MB/s eta 0:00:09\n",
      "   ----------- ---------------------------- 54.7/198.6 MB 16.8 MB/s eta 0:00:09\n",
      "   ----------- ---------------------------- 55.3/198.6 MB 15.6 MB/s eta 0:00:10\n",
      "   ----------- ---------------------------- 56.7/198.6 MB 15.6 MB/s eta 0:00:10\n",
      "   ----------- ---------------------------- 59.2/198.6 MB 27.3 MB/s eta 0:00:06\n",
      "   ------------ --------------------------- 60.1/198.6 MB 24.2 MB/s eta 0:00:06\n",
      "   ------------ --------------------------- 60.7/198.6 MB 22.6 MB/s eta 0:00:07\n",
      "   ------------ --------------------------- 61.6/198.6 MB 23.4 MB/s eta 0:00:06\n",
      "   ------------ --------------------------- 63.2/198.6 MB 22.6 MB/s eta 0:00:06\n",
      "   ------------- -------------------------- 65.1/198.6 MB 28.4 MB/s eta 0:00:05\n",
      "   ------------- -------------------------- 66.3/198.6 MB 29.7 MB/s eta 0:00:05\n",
      "   ------------- -------------------------- 67.1/198.6 MB 27.3 MB/s eta 0:00:05\n",
      "   ------------- -------------------------- 68.0/198.6 MB 25.2 MB/s eta 0:00:06\n",
      "   ------------- -------------------------- 69.4/198.6 MB 23.4 MB/s eta 0:00:06\n",
      "   -------------- ------------------------- 71.0/198.6 MB 27.3 MB/s eta 0:00:05\n",
      "   -------------- ------------------------- 71.1/198.6 MB 27.3 MB/s eta 0:00:05\n",
      "   -------------- ------------------------- 71.1/198.6 MB 27.3 MB/s eta 0:00:05\n",
      "   -------------- ------------------------- 71.1/198.6 MB 27.3 MB/s eta 0:00:05\n",
      "   -------------- ------------------------- 72.2/198.6 MB 19.8 MB/s eta 0:00:07\n",
      "   --------------- ------------------------ 76.3/198.6 MB 23.4 MB/s eta 0:00:06\n",
      "   --------------- ------------------------ 76.9/198.6 MB 21.8 MB/s eta 0:00:06\n",
      "   --------------- ------------------------ 77.8/198.6 MB 22.6 MB/s eta 0:00:06\n",
      "   --------------- ------------------------ 78.9/198.6 MB 22.6 MB/s eta 0:00:06\n",
      "   ---------------- ----------------------- 80.3/198.6 MB 22.5 MB/s eta 0:00:06\n",
      "   ---------------- ----------------------- 81.8/198.6 MB 34.6 MB/s eta 0:00:04\n",
      "   ---------------- ----------------------- 82.7/198.6 MB 31.2 MB/s eta 0:00:04\n",
      "   ---------------- ----------------------- 83.6/198.6 MB 27.3 MB/s eta 0:00:05\n",
      "   ---------------- ----------------------- 84.3/198.6 MB 24.2 MB/s eta 0:00:05\n",
      "   ---------------- ----------------------- 84.3/198.6 MB 24.2 MB/s eta 0:00:05\n",
      "   ---------------- ----------------------- 84.3/198.6 MB 24.2 MB/s eta 0:00:05\n",
      "   ----------------- ---------------------- 85.0/198.6 MB 18.7 MB/s eta 0:00:07\n",
      "   ----------------- ---------------------- 85.0/198.6 MB 18.7 MB/s eta 0:00:07\n",
      "   ----------------- ---------------------- 88.5/198.6 MB 20.5 MB/s eta 0:00:06\n",
      "   ----------------- ---------------------- 89.2/198.6 MB 19.9 MB/s eta 0:00:06\n",
      "   ------------------ --------------------- 89.7/198.6 MB 18.7 MB/s eta 0:00:06\n",
      "   ------------------ --------------------- 89.9/198.6 MB 18.2 MB/s eta 0:00:06\n",
      "   ------------------ --------------------- 89.9/198.6 MB 18.2 MB/s eta 0:00:06\n",
      "   ------------------ --------------------- 90.0/198.6 MB 14.9 MB/s eta 0:00:08\n",
      "   ------------------ --------------------- 92.4/198.6 MB 16.0 MB/s eta 0:00:07\n",
      "   ------------------ --------------------- 92.8/198.6 MB 15.2 MB/s eta 0:00:07\n",
      "   ------------------ --------------------- 93.4/198.6 MB 15.2 MB/s eta 0:00:07\n",
      "   ------------------ --------------------- 94.1/198.6 MB 15.2 MB/s eta 0:00:07\n",
      "   ------------------- -------------------- 95.3/198.6 MB 20.5 MB/s eta 0:00:06\n",
      "   ------------------- -------------------- 96.4/198.6 MB 19.3 MB/s eta 0:00:06\n",
      "   ------------------- -------------------- 97.6/198.6 MB 18.2 MB/s eta 0:00:06\n",
      "   ------------------- -------------------- 98.8/198.6 MB 16.8 MB/s eta 0:00:06\n",
      "   ------------------- ------------------- 100.0/198.6 MB 18.7 MB/s eta 0:00:06\n",
      "   ------------------- ------------------- 101.2/198.6 MB 22.5 MB/s eta 0:00:05\n",
      "   -------------------- ------------------ 102.3/198.6 MB 21.1 MB/s eta 0:00:05\n",
      "   -------------------- ------------------ 103.4/198.6 MB 23.4 MB/s eta 0:00:05\n",
      "   -------------------- ------------------ 104.6/198.6 MB 25.2 MB/s eta 0:00:04\n",
      "   -------------------- ------------------ 105.8/198.6 MB 25.2 MB/s eta 0:00:04\n",
      "   --------------------- ----------------- 107.0/198.6 MB 25.2 MB/s eta 0:00:04\n",
      "   --------------------- ----------------- 108.2/198.6 MB 25.2 MB/s eta 0:00:04\n",
      "   --------------------- ----------------- 109.4/198.6 MB 25.1 MB/s eta 0:00:04\n",
      "   --------------------- ----------------- 110.6/198.6 MB 25.1 MB/s eta 0:00:04\n",
      "   --------------------- ----------------- 111.9/198.6 MB 25.2 MB/s eta 0:00:04\n",
      "   ---------------------- ---------------- 113.0/198.6 MB 26.2 MB/s eta 0:00:04\n",
      "   ---------------------- ---------------- 114.2/198.6 MB 26.2 MB/s eta 0:00:04\n",
      "   ---------------------- ---------------- 115.4/198.6 MB 26.2 MB/s eta 0:00:04\n",
      "   ---------------------- ---------------- 116.4/198.6 MB 25.2 MB/s eta 0:00:04\n",
      "   ----------------------- --------------- 117.7/198.6 MB 26.2 MB/s eta 0:00:04\n",
      "   ----------------------- --------------- 118.7/198.6 MB 25.1 MB/s eta 0:00:04\n",
      "   ----------------------- --------------- 119.9/198.6 MB 25.1 MB/s eta 0:00:04\n",
      "   ----------------------- --------------- 121.0/198.6 MB 25.2 MB/s eta 0:00:04\n",
      "   ----------------------- --------------- 122.2/198.6 MB 25.2 MB/s eta 0:00:04\n",
      "   ------------------------ -------------- 123.5/198.6 MB 25.2 MB/s eta 0:00:03\n",
      "   ------------------------ -------------- 124.7/198.6 MB 25.2 MB/s eta 0:00:03\n",
      "   ------------------------ -------------- 125.9/198.6 MB 25.2 MB/s eta 0:00:03\n",
      "   ------------------------ -------------- 126.9/198.6 MB 25.2 MB/s eta 0:00:03\n",
      "   ------------------------- ------------- 128.2/198.6 MB 25.1 MB/s eta 0:00:03\n",
      "   ------------------------- ------------- 129.5/198.6 MB 26.2 MB/s eta 0:00:03\n",
      "   ------------------------- ------------- 130.7/198.6 MB 26.2 MB/s eta 0:00:03\n",
      "   ------------------------- ------------- 130.8/198.6 MB 25.2 MB/s eta 0:00:03\n",
      "   ------------------------- ------------- 130.8/198.6 MB 25.2 MB/s eta 0:00:03\n",
      "   ------------------------- ------------- 130.8/198.6 MB 19.3 MB/s eta 0:00:04\n",
      "   -------------------------- ------------ 133.1/198.6 MB 21.1 MB/s eta 0:00:04\n",
      "   -------------------------- ------------ 133.5/198.6 MB 19.8 MB/s eta 0:00:04\n",
      "   -------------------------- ------------ 133.8/198.6 MB 18.2 MB/s eta 0:00:04\n",
      "   -------------------------- ------------ 134.4/198.6 MB 17.7 MB/s eta 0:00:04\n",
      "   -------------------------- ------------ 135.2/198.6 MB 17.3 MB/s eta 0:00:04\n",
      "   -------------------------- ------------ 136.2/198.6 MB 16.8 MB/s eta 0:00:04\n",
      "   -------------------------- ------------ 137.1/198.6 MB 16.8 MB/s eta 0:00:04\n",
      "   --------------------------- ----------- 138.1/198.6 MB 16.4 MB/s eta 0:00:04\n",
      "   --------------------------- ----------- 139.0/198.6 MB 16.4 MB/s eta 0:00:04\n",
      "   --------------------------- ----------- 140.0/198.6 MB 16.0 MB/s eta 0:00:04\n",
      "   --------------------------- ----------- 141.0/198.6 MB 15.6 MB/s eta 0:00:04\n",
      "   --------------------------- ----------- 141.8/198.6 MB 18.7 MB/s eta 0:00:04\n",
      "   ---------------------------- ---------- 142.7/198.6 MB 17.3 MB/s eta 0:00:04\n",
      "   ---------------------------- ---------- 143.6/198.6 MB 17.7 MB/s eta 0:00:04\n",
      "   ---------------------------- ---------- 144.6/198.6 MB 19.9 MB/s eta 0:00:03\n",
      "   ---------------------------- ---------- 145.5/198.6 MB 19.8 MB/s eta 0:00:03\n",
      "   ---------------------------- ---------- 146.5/198.6 MB 20.5 MB/s eta 0:00:03\n",
      "   ---------------------------- ---------- 147.5/198.6 MB 20.5 MB/s eta 0:00:03\n",
      "   ----------------------------- --------- 148.4/198.6 MB 20.5 MB/s eta 0:00:03\n",
      "   ----------------------------- --------- 149.4/198.6 MB 20.5 MB/s eta 0:00:03\n",
      "   ----------------------------- --------- 150.4/198.6 MB 20.5 MB/s eta 0:00:03\n",
      "   ----------------------------- --------- 151.4/198.6 MB 19.8 MB/s eta 0:00:03\n",
      "   ----------------------------- --------- 152.3/198.6 MB 19.8 MB/s eta 0:00:03\n",
      "   ------------------------------ -------- 153.3/198.6 MB 19.8 MB/s eta 0:00:03\n",
      "   ------------------------------ -------- 154.3/198.6 MB 20.5 MB/s eta 0:00:03\n",
      "   ------------------------------ -------- 155.3/198.6 MB 20.5 MB/s eta 0:00:03\n",
      "   ------------------------------ -------- 156.3/198.6 MB 20.5 MB/s eta 0:00:03\n",
      "   ------------------------------ -------- 157.3/198.6 MB 20.5 MB/s eta 0:00:03\n",
      "   ------------------------------- ------- 158.4/198.6 MB 21.1 MB/s eta 0:00:02\n",
      "   ------------------------------- ------- 159.3/198.6 MB 21.1 MB/s eta 0:00:02\n",
      "   ------------------------------- ------- 160.3/198.6 MB 21.1 MB/s eta 0:00:02\n",
      "   ------------------------------- ------- 161.3/198.6 MB 21.1 MB/s eta 0:00:02\n",
      "   ------------------------------- ------- 162.3/198.6 MB 21.1 MB/s eta 0:00:02\n",
      "   -------------------------------- ------ 163.2/198.6 MB 21.1 MB/s eta 0:00:02\n",
      "   -------------------------------- ------ 164.3/198.6 MB 21.1 MB/s eta 0:00:02\n",
      "   -------------------------------- ------ 165.3/198.6 MB 21.1 MB/s eta 0:00:02\n",
      "   -------------------------------- ------ 166.3/198.6 MB 21.1 MB/s eta 0:00:02\n",
      "   -------------------------------- ------ 167.3/198.6 MB 21.1 MB/s eta 0:00:02\n",
      "   --------------------------------- ----- 168.3/198.6 MB 21.1 MB/s eta 0:00:02\n",
      "   --------------------------------- ----- 169.3/198.6 MB 21.1 MB/s eta 0:00:02\n",
      "   --------------------------------- ----- 170.2/198.6 MB 21.1 MB/s eta 0:00:02\n",
      "   --------------------------------- ----- 171.2/198.6 MB 21.1 MB/s eta 0:00:02\n",
      "   --------------------------------- ----- 172.2/198.6 MB 21.1 MB/s eta 0:00:02\n",
      "   ---------------------------------- ---- 173.3/198.6 MB 21.1 MB/s eta 0:00:02\n",
      "   ---------------------------------- ---- 174.3/198.6 MB 21.1 MB/s eta 0:00:02\n",
      "   ---------------------------------- ---- 175.3/198.6 MB 21.1 MB/s eta 0:00:02\n",
      "   ---------------------------------- ---- 176.3/198.6 MB 21.1 MB/s eta 0:00:02\n",
      "   ---------------------------------- ---- 177.3/198.6 MB 21.1 MB/s eta 0:00:02\n",
      "   ----------------------------------- --- 178.3/198.6 MB 21.1 MB/s eta 0:00:01\n",
      "   ----------------------------------- --- 179.3/198.6 MB 21.1 MB/s eta 0:00:01\n",
      "   ----------------------------------- --- 180.3/198.6 MB 21.1 MB/s eta 0:00:01\n",
      "   ----------------------------------- --- 181.3/198.6 MB 21.1 MB/s eta 0:00:01\n",
      "   ----------------------------------- --- 182.3/198.6 MB 21.1 MB/s eta 0:00:01\n",
      "   ------------------------------------ -- 183.4/198.6 MB 21.1 MB/s eta 0:00:01\n",
      "   ------------------------------------ -- 184.4/198.6 MB 21.8 MB/s eta 0:00:01\n",
      "   ------------------------------------ -- 185.3/198.6 MB 21.1 MB/s eta 0:00:01\n",
      "   ------------------------------------ -- 186.2/198.6 MB 21.1 MB/s eta 0:00:01\n",
      "   ------------------------------------ -- 187.3/198.6 MB 21.8 MB/s eta 0:00:01\n",
      "   ------------------------------------ -- 188.4/198.6 MB 21.1 MB/s eta 0:00:01\n",
      "   ------------------------------------- - 189.4/198.6 MB 21.1 MB/s eta 0:00:01\n",
      "   ------------------------------------- - 190.4/198.6 MB 21.1 MB/s eta 0:00:01\n",
      "   ------------------------------------- - 191.4/198.6 MB 21.9 MB/s eta 0:00:01\n",
      "   ------------------------------------- - 192.5/198.6 MB 21.1 MB/s eta 0:00:01\n",
      "   --------------------------------------  193.5/198.6 MB 21.1 MB/s eta 0:00:01\n",
      "   --------------------------------------  194.6/198.6 MB 21.1 MB/s eta 0:00:01\n",
      "   --------------------------------------  195.7/198.6 MB 21.9 MB/s eta 0:00:01\n",
      "   --------------------------------------  196.8/198.6 MB 22.6 MB/s eta 0:00:01\n",
      "   --------------------------------------  197.8/198.6 MB 21.8 MB/s eta 0:00:01\n",
      "   --------------------------------------  198.6/198.6 MB 22.6 MB/s eta 0:00:01\n",
      "   --------------------------------------  198.6/198.6 MB 22.6 MB/s eta 0:00:01\n",
      "   --------------------------------------  198.6/198.6 MB 22.6 MB/s eta 0:00:01\n",
      "   --------------------------------------  198.6/198.6 MB 22.6 MB/s eta 0:00:01\n",
      "   --------------------------------------  198.6/198.6 MB 22.6 MB/s eta 0:00:01\n",
      "   --------------------------------------  198.6/198.6 MB 22.6 MB/s eta 0:00:01\n",
      "   --------------------------------------  198.6/198.6 MB 22.6 MB/s eta 0:00:01\n",
      "   --------------------------------------  198.6/198.6 MB 22.6 MB/s eta 0:00:01\n",
      "   --------------------------------------  198.6/198.6 MB 22.6 MB/s eta 0:00:01\n",
      "   --------------------------------------  198.6/198.6 MB 22.6 MB/s eta 0:00:01\n",
      "   --------------------------------------  198.6/198.6 MB 22.6 MB/s eta 0:00:01\n",
      "   --------------------------------------  198.6/198.6 MB 22.6 MB/s eta 0:00:01\n",
      "   --------------------------------------  198.6/198.6 MB 22.6 MB/s eta 0:00:01\n",
      "   --------------------------------------  198.6/198.6 MB 22.6 MB/s eta 0:00:01\n",
      "   --------------------------------------  198.6/198.6 MB 22.6 MB/s eta 0:00:01\n",
      "   ---------------------------------------- 198.6/198.6 MB 7.8 MB/s eta 0:00:00\n",
      "Downloading typing_extensions-4.9.0-py3-none-any.whl (32 kB)\n",
      "Installing collected packages: typing-extensions, torch\n",
      "  Attempting uninstall: typing-extensions\n",
      "    Found existing installation: typing_extensions 4.7.1\n",
      "    Uninstalling typing_extensions-4.7.1:\n",
      "      Successfully uninstalled typing_extensions-4.7.1\n",
      "Successfully installed torch-2.2.0 typing-extensions-4.9.0\n",
      "Note: you may need to restart the kernel to use updated packages.\n"
     ]
    }
   ],
   "source": [
    "pip install torch"
   ]
  },
  {
   "cell_type": "code",
   "execution_count": 4,
   "metadata": {},
   "outputs": [
    {
     "name": "stdout",
     "output_type": "stream",
     "text": [
      "Collecting torchvision\n",
      "  Obtaining dependency information for torchvision from https://files.pythonhosted.org/packages/b5/56/38e892200f8638032b64f6fc8660049f0d00ccba086cf1dcb884bd6370d2/torchvision-0.17.0-cp311-cp311-win_amd64.whl.metadata\n",
      "  Downloading torchvision-0.17.0-cp311-cp311-win_amd64.whl.metadata (6.6 kB)\n",
      "Requirement already satisfied: numpy in c:\\users\\netuser\\anaconda3\\lib\\site-packages (from torchvision) (1.24.3)\n",
      "Requirement already satisfied: requests in c:\\users\\netuser\\anaconda3\\lib\\site-packages (from torchvision) (2.31.0)\n",
      "Requirement already satisfied: torch==2.2.0 in c:\\users\\netuser\\anaconda3\\lib\\site-packages (from torchvision) (2.2.0)\n",
      "Requirement already satisfied: pillow!=8.3.*,>=5.3.0 in c:\\users\\netuser\\anaconda3\\lib\\site-packages (from torchvision) (9.4.0)\n",
      "Requirement already satisfied: filelock in c:\\users\\netuser\\anaconda3\\lib\\site-packages (from torch==2.2.0->torchvision) (3.9.0)\n",
      "Requirement already satisfied: typing-extensions>=4.8.0 in c:\\users\\netuser\\anaconda3\\lib\\site-packages (from torch==2.2.0->torchvision) (4.9.0)\n",
      "Requirement already satisfied: sympy in c:\\users\\netuser\\anaconda3\\lib\\site-packages (from torch==2.2.0->torchvision) (1.11.1)\n",
      "Requirement already satisfied: networkx in c:\\users\\netuser\\anaconda3\\lib\\site-packages (from torch==2.2.0->torchvision) (3.1)\n",
      "Requirement already satisfied: jinja2 in c:\\users\\netuser\\anaconda3\\lib\\site-packages (from torch==2.2.0->torchvision) (3.1.2)\n",
      "Requirement already satisfied: fsspec in c:\\users\\netuser\\anaconda3\\lib\\site-packages (from torch==2.2.0->torchvision) (2023.4.0)\n",
      "Requirement already satisfied: charset-normalizer<4,>=2 in c:\\users\\netuser\\anaconda3\\lib\\site-packages (from requests->torchvision) (2.0.4)\n",
      "Requirement already satisfied: idna<4,>=2.5 in c:\\users\\netuser\\anaconda3\\lib\\site-packages (from requests->torchvision) (3.4)\n",
      "Requirement already satisfied: urllib3<3,>=1.21.1 in c:\\users\\netuser\\anaconda3\\lib\\site-packages (from requests->torchvision) (1.26.16)\n",
      "Requirement already satisfied: certifi>=2017.4.17 in c:\\users\\netuser\\anaconda3\\lib\\site-packages (from requests->torchvision) (2023.7.22)\n",
      "Requirement already satisfied: MarkupSafe>=2.0 in c:\\users\\netuser\\anaconda3\\lib\\site-packages (from jinja2->torch==2.2.0->torchvision) (2.1.1)\n",
      "Requirement already satisfied: mpmath>=0.19 in c:\\users\\netuser\\anaconda3\\lib\\site-packages (from sympy->torch==2.2.0->torchvision) (1.3.0)\n",
      "Downloading torchvision-0.17.0-cp311-cp311-win_amd64.whl (1.2 MB)\n",
      "   ---------------------------------------- 0.0/1.2 MB ? eta -:--:--\n",
      "   ---------------------------------------- 0.0/1.2 MB ? eta -:--:--\n",
      "   - -------------------------------------- 0.0/1.2 MB 435.7 kB/s eta 0:00:03\n",
      "   -- ------------------------------------- 0.1/1.2 MB 656.4 kB/s eta 0:00:02\n",
      "   ----- ---------------------------------- 0.2/1.2 MB 1.2 MB/s eta 0:00:01\n",
      "   ----------- ---------------------------- 0.3/1.2 MB 1.7 MB/s eta 0:00:01\n",
      "   ------------------- -------------------- 0.6/1.2 MB 2.4 MB/s eta 0:00:01\n",
      "   --------------------------- ------------ 0.8/1.2 MB 2.8 MB/s eta 0:00:01\n",
      "   ---------------------------------------  1.2/1.2 MB 3.5 MB/s eta 0:00:01\n",
      "   ---------------------------------------- 1.2/1.2 MB 3.4 MB/s eta 0:00:00\n",
      "Installing collected packages: torchvision\n",
      "Successfully installed torchvision-0.17.0\n",
      "Note: you may need to restart the kernel to use updated packages.\n"
     ]
    }
   ],
   "source": [
    "pip install torchvision"
   ]
  },
  {
   "cell_type": "code",
   "execution_count": 56,
   "metadata": {},
   "outputs": [],
   "source": [
    "import csv\n",
    "import numpy as np\n",
    "from typing import Set,Tuple, List\n",
    "import torch\n",
    "import torch.utils\n",
    "import torch.utils.data\n",
    "from torch.utils.data import DataLoader  # Add this import statement\n",
    "import torch.nn as nn\n",
    "import torchvision\n",
    "NoneType = type(None)\n",
    "import matplotlib.pyplot as plt\n",
    "from IPython.display import display, clear_output\n",
    "from PIL import Image\n",
    "import torchvision.transforms.functional as TF\n",
    "from torchvision.models import vgg11\n",
    "from torchvision.models import mobilenet_v2\n",
    "import torchvision.transforms as transforms\n",
    "import time"
   ]
  },
  {
   "cell_type": "markdown",
   "metadata": {
    "nbgrader": {
     "grade": false,
     "grade_id": "cc882a7b-ee15-441c-8f29-7a88334928d4",
     "locked": true,
     "points": 1,
     "schema_version": 3,
     "solution": false,
     "task": false
    }
   },
   "source": [
    "<h1 id=\"exercise-1\"><strong>Exercise 1</strong></h1>\n"
   ]
  },
  {
   "cell_type": "markdown",
   "metadata": {
    "nbgrader": {
     "grade": false,
     "grade_id": "5361b734-8aa8-4f12-8749-ff1ab0d84c8b",
     "locked": true,
     "points": 1,
     "schema_version": 3,
     "solution": false,
     "task": false
    }
   },
   "source": [
    "<font size=\"4px\"><p>This method returns the fruit name by getting the string at a specific index of the set.</p>\n",
    "<dl>\n",
    "<dt>param fruit_id</dt>\n",
    "<dd><p>The id of the fruit to get</p>\n",
    "</dd>\n",
    "<dt>param fruits</dt>\n",
    "<dd><p>The set of fruits to choose the id from</p>\n",
    "</dd>\n",
    "<dt>return</dt>\n",
    "<dd><p>The string corrosponding to the index <code>fruit_id</code></p>\n",
    "</dd>\n",
    "</dl>\n",
    "<p><strong>This method is part of a series of debugging exercises.</strong> <strong>Each Python method of this series contains bug that needs to be found.</strong></p>\n",
    "<div class=\"line-block\"><code>1   It does not print the fruit at the correct index, why is the returned result wrong?</code><br />\n",
    "<code>2   How could this be fixed?</code></div>\n",
    "<p>This example demonstrates the issue: name1, name3 and name4 are expected to correspond to the strings at the indices 1, 3, and 4: 'orange', 'kiwi' and 'strawberry'..</p>\n",
    "</font>"
   ]
  },
  {
   "cell_type": "code",
   "execution_count": 35,
   "metadata": {
    "nbgrader": {
     "grade": false,
     "grade_id": "ed23d9b0-ae7a-4024-b39c-2824f8b5699e",
     "locked": false,
     "points": 1,
     "schema_version": 3,
     "solution": false,
     "task": false
    }
   },
   "outputs": [],
   "source": [
    "# You can copy this code to your personal pipeline project or execute it here.\n",
    "def id_to_fruit(fruit_id: int, fruits: Set[str]) -> str:\n",
    "    \"\"\"\n",
    "    This method returns the fruit name by getting the string at a specific index of the set.\n",
    "\n",
    "    :param fruit_id: The id of the fruit to get\n",
    "    :param fruits: The set of fruits to choose the id from\n",
    "    :return: The string corresponding to the index ``fruit_id``\n",
    "\n",
    "    **This method is part of a series of debugging exercises.**\n",
    "    **Each Python method of this series contains a bug that needs to be found.**\n",
    "\n",
    "    | ``1   It does not print the fruit at the correct index, why is the returned result wrong?``\n",
    "    | ``2   How could this be fixed?``\n",
    "\n",
    "    This example demonstrates the issue:\n",
    "    name1, name3, and name4 are expected to correspond to the strings at the indices 1, 3, and 4:\n",
    "    'orange', 'kiwi', and 'strawberry'.\n",
    "\n",
    "    >>> name1 = id_to_fruit(1, {\"apple\", \"orange\", \"melon\", \"kiwi\", \"strawberry\"})\n",
    "    >>> name3 = id_to_fruit(3, {\"apple\", \"orange\", \"melon\", \"kiwi\", \"strawberry\"})\n",
    "    >>> name4 = id_to_fruit(4, {\"apple\", \"orange\", \"melon\", \"kiwi\", \"strawberry\"})\n",
    "    \"\"\"\n",
    "    for idx, fruit in enumerate(fruits):\n",
    "        if fruit_id == idx:\n",
    "            return fruit\n",
    "    raise RuntimeError(f\"Fruit with id {fruit_id} does not exist\")\n"
   ]
  },
  {
   "cell_type": "code",
   "execution_count": 36,
   "metadata": {
    "nbgrader": {
     "grade": false,
     "grade_id": "025aaa96-8477-4a10-bb5d-d705e81d8aa1",
     "locked": true,
     "points": 1,
     "schema_version": 3,
     "solution": false,
     "task": false
    }
   },
   "outputs": [],
   "source": [
    "name1 = id_to_fruit(1, {\"apple\", \"orange\", \"melon\", \"kiwi\", \"strawberry\"})\n",
    "name3 = id_to_fruit(3, {\"apple\", \"orange\", \"melon\", \"kiwi\", \"strawberry\"})\n",
    "name4 = id_to_fruit(4, {\"apple\", \"orange\", \"melon\", \"kiwi\", \"strawberry\"})\n"
   ]
  },
  {
   "cell_type": "markdown",
   "metadata": {
    "nbgrader": {
     "grade": false,
     "grade_id": "ae288313-4e91-4a31-8c2d-dc06c7b65a74",
     "locked": true,
     "points": 1,
     "schema_version": 3,
     "solution": false,
     "task": false
    }
   },
   "source": [
    "<h1 id=\"exercise-2\"><strong>Exercise 2</strong></h1>\n"
   ]
  },
  {
   "cell_type": "markdown",
   "metadata": {
    "nbgrader": {
     "grade": false,
     "grade_id": "4cd5165e-4013-40fb-9a86-82f4080fcf9d",
     "locked": true,
     "points": 1,
     "schema_version": 3,
     "solution": false,
     "task": false
    }
   },
   "source": [
    "<font size=\"4px\"><p>This method will flip the x and y coordinates in the coords array.</p>\n",
    "<dl>\n",
    "<dt>param coords</dt>\n",
    "<dd><p>A numpy array of bounding box coordinates with shape [n,5] in format: :</p>\n",
    "<pre><code>[[x11, y11, x12, y12, classid1],\n",
    " [x21, y21, x22, y22, classid2],\n",
    " ...\n",
    " [xn1, yn1, xn2, yn2, classid3]]</code></pre>\n",
    "</dd>\n",
    "<dt>return</dt>\n",
    "<dd><p>The new numpy array where the x and y coordinates are flipped.</p>\n",
    "</dd>\n",
    "</dl>\n",
    "<p><strong>This method is part of a series of debugging exercises.</strong> <strong>Each Python method of this series contains bug that needs to be found.</strong></p>\n",
    "<div class=\"line-block\"><code>1   Can you spot the obvious error?</code><br />\n",
    "<code>2   After fixing the obvious error it is still wrong, how can this be fixed?</code></div>\n",
    "</font>"
   ]
  },
  {
   "cell_type": "markdown",
   "metadata": {
    "nbgrader": {
     "grade": false,
     "grade_id": "305f143b-0d43-417d-8478-045e258c1d2a",
     "locked": true,
     "points": 1,
     "schema_version": 3,
     "solution": false,
     "task": false
    }
   },
   "source": [
    "<font size=\"4px\"><p>The example demonstrates the issue. The returned swapped_coords are expected to have swapped x and y coordinates in each of the rows.</p>\n",
    "</font>"
   ]
  },
  {
   "cell_type": "code",
   "execution_count": 37,
   "metadata": {
    "nbgrader": {
     "grade": false,
     "grade_id": "a9498a72-2a4d-4d03-bcce-fe07e85756ec",
     "locked": false,
     "points": 1,
     "schema_version": 3,
     "solution": false,
     "task": false
    }
   },
   "outputs": [],
   "source": [
    "# You can copy this code to your personal pipeline project or execute it here.\n",
    "\n",
    "def swap(coords: np.ndarray):\n",
    "    \"\"\"\n",
    "    This method will flip the x and y coordinates in the coords array.\n",
    "\n",
    "    :param coords: A numpy array of bounding box coordinates with shape [n,5] in format:\n",
    "        ::\n",
    "\n",
    "            [[x11, y11, x12, y12, classid1],\n",
    "             [x21, y21, x22, y22, classid2],\n",
    "             ...\n",
    "             [xn1, yn1, xn2, yn2, classid3]]\n",
    "\n",
    "    :return: The new numpy array where the x and y coordinates are flipped.\n",
    "\n",
    "    **This method is part of a series of debugging exercises.**\n",
    "    **Each Python method of this series contains a bug that needs to be found.**\n",
    "\n",
    "    | ``1   Can you spot the obvious error?``\n",
    "    | ``2   After fixing the obvious error it is still wrong, how can this be fixed?``\n",
    "\n",
    "    >>> import numpy as np\n",
    "    >>> coords = np.array([[10, 5, 15, 6, 0],\n",
    "    ...                    [11, 3, 13, 6, 0],\n",
    "    ...                    [5, 3, 13, 6, 1],\n",
    "    ...                    [4, 4, 13, 6, 1],\n",
    "    ...                    [6, 5, 13, 16, 1]])\n",
    "    >>> swapped_coords = swap(coords)\n",
    "\n",
    "    The example demonstrates the issue. The returned swapped_coords are expected to have swapped\n",
    "    x and y coordinates in each of the rows.\n",
    "    \"\"\"\n",
    "    # Swap x and y coordinates\n",
    "    coords[:, [0, 1, 2, 3]] = coords[:, [1, 0, 3, 2]]\n",
    "    return coords\n",
    "\n"
   ]
  },
  {
   "cell_type": "code",
   "execution_count": 39,
   "metadata": {
    "nbgrader": {
     "grade": false,
     "grade_id": "28f520e2-11c8-4646-9917-b0c07eec0da8",
     "locked": true,
     "points": 1,
     "schema_version": 3,
     "solution": false,
     "task": false
    }
   },
   "outputs": [],
   "source": [
    "import numpy as np\n",
    "coords = np.array([[10, 5, 15, 6, 0],\n",
    "                   [11, 3, 13, 6, 0],\n",
    "                   [5, 3, 13, 6, 1],\n",
    "                   [4, 4, 13, 6, 1],\n",
    "                   [6, 5, 13, 16, 1]])\n",
    "swapped_coords = swap(coords)\n"
   ]
  },
  {
   "cell_type": "markdown",
   "metadata": {
    "nbgrader": {
     "grade": false,
     "grade_id": "a1f01da3-8770-45ca-8d36-92c35558dd17",
     "locked": true,
     "points": 1,
     "schema_version": 3,
     "solution": false,
     "task": false
    }
   },
   "source": [
    "<h1 id=\"exercise-3\"><strong>Exercise 3</strong></h1>\n"
   ]
  },
  {
   "cell_type": "markdown",
   "metadata": {
    "nbgrader": {
     "grade": false,
     "grade_id": "3f04f9e6-5411-42a9-a244-3cf2f1ab3171",
     "locked": true,
     "points": 1,
     "schema_version": 3,
     "solution": false,
     "task": false
    }
   },
   "source": [
    "<font size=\"4px\"><p>This code plots the precision-recall curve based on data from a .csv file, where precision is on the x-axis and recall is on the y-axis. It it not so important right now what precision and recall means.</p>\n",
    "<dl>\n",
    "<dt>param csv_file_path</dt>\n",
    "<dd><p>The CSV file containing the data to plot.</p>\n",
    "</dd>\n",
    "</dl>\n",
    "<p><strong>This method is part of a series of debugging exercises.</strong> <strong>Each Python method of this series contains bug that needs to be found.</strong></p>\n",
    "<div class=\"line-block\"><code>1   For some reason the plot is not showing correctly, can you find out what is going wrong?</code><br />\n",
    "<code>2   How could this be fixed?</code></div>\n",
    "<p>This example demonstrates the issue. It first generates some data in a csv file format and the plots it using the <code>plot_data</code> method. If you manually check the coordinates and then check the plot, they do not correspond.</p>\n",
    "</font>"
   ]
  },
  {
   "cell_type": "code",
   "execution_count": 44,
   "metadata": {
    "nbgrader": {
     "grade": false,
     "grade_id": "94c9cc8b-f0eb-47d5-b03d-12368e976de5",
     "locked": false,
     "points": 1,
     "schema_version": 3,
     "solution": false,
     "task": false
    }
   },
   "outputs": [],
   "source": [
    "# You can copy this code to your personal pipeline project or execute it here.\n",
    "def plot_data(csv_file_path: str):\n",
    "    \"\"\"\n",
    "    This code plots the precision-recall curve based on data from a .csv file,\n",
    "    where precision is on the x-axis and recall is on the y-axis.\n",
    "    It is not so important right now what precision and recall means.\n",
    "\n",
    "    :param csv_file_path: The CSV file containing the data to plot.\n",
    "\n",
    "    **This method is part of a series of debugging exercises.**\n",
    "    **Each Python method of this series contains a bug that needs to be found.**\n",
    "\n",
    "    | ``1   For some reason the plot is not showing correctly, can you find out what is going wrong?``\n",
    "    | ``2   How could this be fixed?``\n",
    "\n",
    "    This example demonstrates the issue.\n",
    "    It first generates some data in a csv file format and then plots it using the ``plot_data`` method.\n",
    "    If you manually check the coordinates and then check the plot, they do not correspond.\n",
    "\n",
    "    >>> f = open(\"data_file.csv\", \"w\")\n",
    "    >>> w = csv.writer(f)\n",
    "    >>> _ = w.writerow([\"precision\", \"recall\"])\n",
    "    >>> w.writerows([[0.013,0.951],\n",
    "    ...              [0.376,0.851],\n",
    "    ...              [0.441,0.839],\n",
    "    ...              [0.570,0.758],\n",
    "    ...              [0.635,0.674],\n",
    "    ...              [0.721,0.604],\n",
    "    ...              [0.837,0.531],\n",
    "    ...              [0.860,0.453],\n",
    "    ...              [0.962,0.348],\n",
    "    ...              [0.982,0.273],\n",
    "    ...              [1.0,0.0]])\n",
    "    >>> f.close()\n",
    "    >>> plot_data('data_file.csv')\n",
    "    \"\"\"\n",
    "    # load data\n",
    "    precision = []\n",
    "    recall = []\n",
    "    with open(csv_file_path) as result_csv:\n",
    "        csv_reader = csv.reader(result_csv, delimiter=',')\n",
    "        next(csv_reader)  # Skip the header row\n",
    "        for row in csv_reader:\n",
    "            if len(row) == 2:  # Ensure the row has exactly 2 elements\n",
    "                try:\n",
    "                    precision.append(float(row[0]))\n",
    "                    recall.append(float(row[1]))\n",
    "                except ValueError:\n",
    "                    print(f\"Skipping invalid row: {row}\")\n",
    "\n",
    "    # plot precision-recall curve\n",
    "    plt.plot(recall, precision)\n",
    "    plt.ylim([-0.05, 1.05])\n",
    "    plt.xlim([-0.05, 1.05])\n",
    "    plt.xlabel('Recall')\n",
    "    plt.ylabel('Precision')\n",
    "    plt.show()"
   ]
  },
  {
   "cell_type": "code",
   "execution_count": 45,
   "metadata": {
    "nbgrader": {
     "grade": false,
     "grade_id": "7d3fe2ec-aef4-44ec-8240-c292c43d0ec5",
     "locked": true,
     "points": 1,
     "schema_version": 3,
     "solution": false,
     "task": false
    }
   },
   "outputs": [
    {
     "data": {
      "image/png": "[encoded data removed]",
      "text/plain": [
       "<Figure size 640x480 with 1 Axes>"
      ]
     },
     "metadata": {},
     "output_type": "display_data"
    }
   ],
   "source": [
    "# Test the function\n",
    "f = open(\"data_file.csv\", \"w\")\n",
    "w = csv.writer(f)\n",
    "_ = w.writerow([\"precision\", \"recall\"])\n",
    "w.writerows([[0.013,0.951],\n",
    "             [0.376,0.851],\n",
    "             [0.441,0.839],\n",
    "             [0.570,0.758],\n",
    "             [0.635,0.674],\n",
    "             [0.721,0.604],\n",
    "             [0.837,0.531],\n",
    "             [0.860,0.453],\n",
    "             [0.962,0.348],\n",
    "             [0.982,0.273],\n",
    "             [1.0,0.0]])\n",
    "f.close()\n",
    "plot_data('data_file.csv')"
   ]
  },
  {
   "cell_type": "markdown",
   "metadata": {
    "nbgrader": {
     "grade": false,
     "grade_id": "e5847fdf-e1ac-4ed6-afcf-3770d90f09b3",
     "locked": true,
     "points": 1,
     "schema_version": 3,
     "solution": false,
     "task": false
    }
   },
   "source": [
    "<h1 id=\"generator-for-exercise-4\">** Generator (for Exercise 4)**</h1>\n"
   ]
  },
  {
   "cell_type": "markdown",
   "metadata": {
    "nbgrader": {
     "grade": false,
     "grade_id": "c44ce22c-62b5-4b4e-a21c-d5fa92fa0c0f",
     "locked": true,
     "points": 1,
     "schema_version": 3,
     "solution": false,
     "task": false
    }
   },
   "source": [
    "<font size=\"4px\"><p>Generator class for the GAN</p>\n",
    "</font>"
   ]
  },
  {
   "cell_type": "code",
   "execution_count": 57,
   "metadata": {
    "nbgrader": {
     "grade": false,
     "grade_id": "b6fc98b2-8167-4b7f-bfcb-c89e1b641d19",
     "locked": false,
     "points": 1,
     "schema_version": 3,
     "solution": false,
     "task": false
    }
   },
   "outputs": [],
   "source": [
    "# You can copy this code to your personal pipeline project or execute it here.\n",
    "class Generator(nn.Module):\n",
    "    \"\"\"\n",
    "    Generator class for the GAN\n",
    "    \"\"\"\n",
    "\n",
    "    def __init__(self):\n",
    "        super().__init__()\n",
    "        self.model = nn.Sequential(\n",
    "            nn.Linear(100, 256),\n",
    "            nn.ReLU(),\n",
    "            nn.Linear(256, 512),\n",
    "            nn.ReLU(),\n",
    "            nn.Linear(512, 1024),\n",
    "            nn.ReLU(),\n",
    "            nn.Linear(1024, 784),\n",
    "            nn.Tanh(),\n",
    "        )\n",
    "\n",
    "    def forward(self, x):\n",
    "        output = self.model(x)\n",
    "        output = output.view(x.size(0), 1, 28, 28)\n",
    "        return output\n"
   ]
  },
  {
   "cell_type": "markdown",
   "metadata": {
    "nbgrader": {
     "grade": false,
     "grade_id": "edf16cad-258f-487a-a943-add21d1f133a",
     "locked": true,
     "points": 1,
     "schema_version": 3,
     "solution": false,
     "task": false
    }
   },
   "source": [
    "<h1 id=\"discriminator-for-exercise-4\">** Discriminator (for Exercise 4)**</h1>\n"
   ]
  },
  {
   "cell_type": "markdown",
   "metadata": {
    "nbgrader": {
     "grade": false,
     "grade_id": "64cb9d71-aa84-4f28-9c16-c84ae48a3c44",
     "locked": true,
     "points": 1,
     "schema_version": 3,
     "solution": false,
     "task": false
    }
   },
   "source": [
    "<font size=\"4px\"><p>Discriminator class for the GAN</p>\n",
    "</font>"
   ]
  },
  {
   "cell_type": "code",
   "execution_count": 58,
   "metadata": {
    "nbgrader": {
     "grade": false,
     "grade_id": "794a7f53-5d26-4027-a411-02e35c7a17a1",
     "locked": false,
     "points": 1,
     "schema_version": 3,
     "solution": false,
     "task": false
    }
   },
   "outputs": [],
   "source": [
    "# You can copy this code to your personal pipeline project or execute it here.\n",
    "class Discriminator(nn.Module):\n",
    "    \"\"\"\n",
    "    Discriminator class for the GAN\n",
    "    \"\"\"\n",
    "    def __init__(self):\n",
    "        super().__init__()\n",
    "        self.model = nn.Sequential(\n",
    "            nn.Linear(784, 1024),\n",
    "            nn.ReLU(),\n",
    "            nn.Dropout(0.3),\n",
    "            nn.Linear(1024, 512),\n",
    "            nn.ReLU(),\n",
    "            nn.Dropout(0.3),\n",
    "            nn.Linear(512, 256),\n",
    "            nn.ReLU(),\n",
    "            nn.Dropout(0.3),\n",
    "            nn.Linear(256, 1),\n",
    "            nn.Sigmoid(),\n",
    "        )\n",
    "\n",
    "    def forward(self, x):\n",
    "        x = x.view(x.size(0), 784)\n",
    "        output = self.model(x)\n",
    "        return output\n",
    "\n"
   ]
  },
  {
   "cell_type": "markdown",
   "metadata": {
    "nbgrader": {
     "grade": false,
     "grade_id": "eabb4be5-9c19-44d2-a468-21d8adb038b2",
     "locked": true,
     "points": 1,
     "schema_version": 3,
     "solution": false,
     "task": false
    }
   },
   "source": [
    "<h1 id=\"exercise-4\">** Exercise 4**</h1>\n"
   ]
  },
  {
   "cell_type": "markdown",
   "metadata": {
    "nbgrader": {
     "grade": false,
     "grade_id": "7bd45bd0-09eb-41d5-9ac7-cbb4a648d45f",
     "locked": true,
     "points": 1,
     "schema_version": 3,
     "solution": false,
     "task": false
    }
   },
   "source": [
    "<font size=\"4px\"><p>The method trains a Generative Adversarial Network and is based on: <a href=\"https://realpython.com/generative-adversarial-networks/\">https://realpython.com/generative-adversarial-networks/</a></p>\n",
    "<p>The Generator network tries to generate convincing images of handwritten digits. The Discriminator needs to detect if the image was created by the Generater or if the image is a real image from a known dataset (MNIST). If both the Generator and the Discriminator are optimized, the Generator is able to create images that are difficult to distinguish from real images. This is goal of a GAN.</p>\n",
    "<p>This code produces the expected results at first attempt at about 50 epochs.</p>\n",
    "<dl>\n",
    "<dt>param batch_size</dt>\n",
    "<dd><p>The number of images to train in one epoch.</p>\n",
    "</dd>\n",
    "<dt>param num_epochs</dt>\n",
    "<dd><p>The number of epochs to train the gan.</p>\n",
    "</dd>\n",
    "<dt>param device</dt>\n",
    "<dd><p>The computing device to use. If CUDA is installed and working then <span class=\"title-ref\">cuda:0</span> is chosen otherwise 'cpu' is chosen. Note: Training a GAN on the CPU is very slow.</p>\n",
    "</dd>\n",
    "</dl>\n",
    "<p><strong>This method is part of a series of debugging exercises.</strong> <strong>Each Python method of this series contains bug that needs to be found.</strong></p>\n",
    "<p>It contains at least two bugs: one structural bug and one cosmetic bug. Both bugs are from the original tutorial.</p>\n",
    "<div class=\"line-block\"><code>1   Changing the batch_size from 32 to 64 triggers the structural bug.</code><br />\n",
    "<code>2   Can you also spot the cosmetic bug?</code><br />\n",
    "<code>Note: to fix this bug a thorough understanding of GANs is not necessary.</code></div>\n",
    "<p>Change the batch size to 64 to trigger the bug with message: ValueError: \"Using a target size (torch.Size([128, 1])) that is different to the input size (torch.Size([96, 1])) is deprecated. Please ensure they have the same size.\"</p>\n",
    "</font>"
   ]
  },
  {
   "cell_type": "code",
   "execution_count": 59,
   "metadata": {
    "nbgrader": {
     "grade": false,
     "grade_id": "415e7df3-2d5e-4078-afa8-ab480906e127",
     "locked": false,
     "points": 1,
     "schema_version": 3,
     "solution": false,
     "task": false
    }
   },
   "outputs": [],
   "source": [
    "# You can copy this code to your personal pipeline project or execute it here.\n",
    "def train_gan(batch_size=32, num_epochs=100, device=\"cuda\" if torch.cuda.is_available() else \"cpu\"):\n",
    "    transform = transforms.Compose([\n",
    "        transforms.ToTensor(),\n",
    "        transforms.Normalize((0.5,), (0.5,))\n",
    "    ])\n",
    "\n",
    "    train_set = torchvision.datasets.MNIST(root=\".\", train=True, download=True, transform=transform)\n",
    "    train_loader = DataLoader(train_set, batch_size=batch_size, shuffle=True)\n",
    "\n",
    "    discriminator = Discriminator().to(device)\n",
    "    generator = Generator().to(device)\n",
    "    lr = 0.0001\n",
    "    loss_function = nn.BCELoss()\n",
    "    optimizer_discriminator = torch.optim.Adam(discriminator.parameters(), lr=lr)\n",
    "    optimizer_generator = torch.optim.Adam(generator.parameters(), lr=lr)\n",
    "\n",
    "    for epoch in range(num_epochs):\n",
    "        for n, (real_samples, _) in enumerate(train_loader):\n",
    "            real_samples = real_samples.to(device=device)\n",
    "            real_samples_labels = torch.ones((batch_size, 1)).to(device=device)\n",
    "            latent_space_samples = torch.randn((batch_size, 100)).to(device=device)\n",
    "            generated_samples = generator(latent_space_samples)\n",
    "            generated_samples_labels = torch.zeros((batch_size, 1)).to(device=device)\n",
    "            all_samples = torch.cat((real_samples, generated_samples))\n",
    "            all_samples_labels = torch.cat((real_samples_labels, generated_samples_labels))\n",
    "\n",
    "            discriminator.zero_grad()\n",
    "            output_discriminator = discriminator(all_samples)\n",
    "            loss_discriminator = loss_function(output_discriminator, all_samples_labels)\n",
    "            loss_discriminator.backward()\n",
    "            optimizer_discriminator.step()\n",
    "\n",
    "            generator.zero_grad()\n",
    "            latent_space_samples = torch.randn((batch_size, 100)).to(device=device)\n",
    "            generated_samples = generator(latent_space_samples)\n",
    "            output_discriminator_generated = discriminator(generated_samples)\n",
    "            loss_generator = loss_function(output_discriminator_generated, real_samples_labels)\n",
    "            loss_generator.backward()\n",
    "            optimizer_generator.step()\n",
    "\n",
    "            if n == len(train_loader) - 1:\n",
    "                name = f\"Generate images\\n Epoch: {epoch} Loss D.: {loss_discriminator:.2f} Loss G.: {loss_generator:.2f}\"\n",
    "                generated_samples = generated_samples.detach().cpu().numpy()\n",
    "                fig = plt.figure()\n",
    "                for i in range(16):\n",
    "                    sub = fig.add_subplot(4, 4, 1 + i)\n",
    "                    sub.imshow(generated_samples[i].reshape(28, 28), cmap=\"gray_r\")\n",
    "                    sub.axis('off')\n",
    "                fig.suptitle(name)\n",
    "                fig.tight_layout()\n",
    "                clear_output(wait=False)\n",
    "                display(fig)\n",
    "\n"
   ]
  },
  {
   "cell_type": "code",
   "execution_count": null,
   "metadata": {
    "nbgrader": {
     "grade": false,
     "grade_id": "f91ed112-98cc-49f1-a629-de2155a9ff30",
     "locked": true,
     "points": 1,
     "schema_version": 3,
     "solution": false,
     "task": false
    }
   },
   "outputs": [
    {
     "data": {
      "image/png": "[encoded data removed]",
      "text/plain": [
       "<Figure size 640x480 with 16 Axes>"
      ]
     },
     "metadata": {},
     "output_type": "display_data"
    }
   ],
   "source": [
    "train_gan(batch_size=32, num_epochs=100)"
   ]
  },
  {
   "cell_type": "code",
   "execution_count": null,
   "metadata": {},
   "outputs": [],
   "source": []
  }
 ],
 "metadata": {
  "celltoolbar": "Create Assignment",
  "kernelspec": {
   "display_name": "Python 3 (ipykernel)",
   "language": "python",
   "name": "python3"
  },
  "language_info": {
   "codemirror_mode": {
    "name": "ipython",
    "version": 3
   },
   "file_extension": ".py",
   "mimetype": "text/x-python",
   "name": "python",
   "nbconvert_exporter": "python",
   "pygments_lexer": "ipython3",
   "version": "3.11.5"
  }
 },
 "nbformat": 4,
 "nbformat_minor": 2
}
